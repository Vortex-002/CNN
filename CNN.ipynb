{
  "cells": [
    {
      "cell_type": "code",
      "execution_count": null,
      "metadata": {
        "colab": {
          "base_uri": "https://localhost:8080/"
        },
        "id": "_6Dj6PJULopy",
        "outputId": "171b68d3-e9f5-473b-b5d8-dce26f6fd671"
      },
      "outputs": [
        {
          "name": "stderr",
          "output_type": "stream",
          "text": [
            "Calculating mean and std: 100%|██████████| 116/116 [08:12<00:00,  4.25s/batch]"
          ]
        },
        {
          "name": "stdout",
          "output_type": "stream",
          "text": [
            "Mean: tensor([0.6314, 0.5293, 0.4935])\n",
            "Standard Deviation: tensor([0.1907, 0.1813, 0.1858])\n"
          ]
        },
        {
          "name": "stderr",
          "output_type": "stream",
          "text": [
            "\n"
          ]
        }
      ],
      "source": [
        "import torch\n",
        "from torchvision import datasets, transforms\n",
        "from torch.utils.data import DataLoader\n",
        "from tqdm import tqdm  # Import tqdm for the progress bar\n",
        "\n",
        "# Transformation without normalization to compute mean and std\n",
        "transform = transforms.Compose([\n",
        "    transforms.Resize((128, 128)),  # Resize images to 128x128\n",
        "    transforms.ToTensor()  # Convert images to tensor\n",
        "])\n",
        "\n",
        "# Load the dataset (only for calculation, without normalization)\n",
        "dataset = datasets.ImageFolder(root='/content/drive/MyDrive/data', transform=transform)\n",
        "\n",
        "# Create a DataLoader (no need to shuffle here since we just need to compute stats)\n",
        "loader = DataLoader(dataset, batch_size=32, shuffle=False)\n",
        "\n",
        "# Initialize variables to calculate mean and std\n",
        "mean = 0.0\n",
        "std = 0.0\n",
        "total_images = 0\n",
        "\n",
        "# Use tqdm to show progress bar for data iteration\n",
        "for images, _ in tqdm(loader, desc=\"Calculating mean and std\", unit=\"batch\"):\n",
        "    # Compute the mean and std for each batch\n",
        "    batch_samples = images.size(0)  # Number of images in the batch\n",
        "    images = images.view(batch_samples, images.size(1), -1)  # Flatten each image\n",
        "    mean += images.mean(2).sum(0)  # Sum along width and height (axis 2)\n",
        "    std += images.std(2).sum(0)  # Sum along width and height (axis 2)\n",
        "    total_images += batch_samples\n",
        "\n",
        "# Compute the final mean and std by dividing by total images\n",
        "mean /= total_images\n",
        "std /= total_images\n",
        "\n",
        "print(f'Mean: {mean}')\n",
        "print(f'Standard Deviation: {std}')\n"
      ]
    },
    {
      "cell_type": "code",
      "execution_count": 2,
      "metadata": {
        "colab": {
          "base_uri": "https://localhost:8080/"
        },
        "id": "Xs7HycaPK_Ru",
        "outputId": "8418b9d3-cb98-4942-e501-1becfb23e309"
      },
      "outputs": [
        {
          "output_type": "stream",
          "name": "stdout",
          "text": [
            "Train dataset size: 2956\n",
            "Validation dataset size: 369\n",
            "Test dataset size: 371\n"
          ]
        }
      ],
      "source": [
        "import os\n",
        "import torch\n",
        "from torchvision import datasets, transforms\n",
        "from torch.utils.data import DataLoader, random_split\n",
        "\n",
        "transform = transforms.Compose([\n",
        "    transforms.Resize((224, 224)),  # Resize images to 128x128\n",
        "    transforms.RandomHorizontalFlip(),\n",
        "    transforms.RandomVerticalFlip(),\n",
        "    transforms.RandomRotation(15),\n",
        "    transforms.ColorJitter(brightness=0.2, contrast=0.2, saturation=0.2, hue=0.1),\n",
        "    transforms.ToTensor(),  # Convert images to tensor\n",
        "    transforms.Normalize([0.6314, 0.5293, 0.4935], [0.1907, 0.1813, 0.1858])  # Normalize with mean & std for RGB\n",
        "])\n",
        "\n",
        "# Loading the dataset assuming binary folders: 'eczema' and 'normal'\n",
        "dataset = datasets.ImageFolder(root='/content/drive/MyDrive/data', transform=transform)\n",
        "\n",
        "# Splitting dataset into 80% train, 10% validation, 10% test\n",
        "train_size = int(0.8 * len(dataset))\n",
        "val_size = int(0.1 * len(dataset))\n",
        "test_size = len(dataset) - train_size - val_size\n",
        "\n",
        "train_dataset, val_dataset, test_dataset = random_split(dataset, [train_size, val_size, test_size])\n",
        "\n",
        "# Data loaders\n",
        "train_loader = DataLoader(train_dataset, batch_size=32, shuffle=True)\n",
        "val_loader = DataLoader(val_dataset, batch_size=32)\n",
        "test_loader = DataLoader(test_dataset, batch_size=32)\n",
        "\n",
        "print(f\"Train dataset size: {len(train_dataset)}\")\n",
        "print(f\"Validation dataset size: {len(val_dataset)}\")\n",
        "print(f\"Test dataset size: {len(test_dataset)}\")\n"
      ]
    },
    {
      "cell_type": "code",
      "execution_count": 4,
      "metadata": {
        "id": "qaLHLbkwTL1k"
      },
      "outputs": [],
      "source": [
        "import torch\n",
        "import torch.nn as nn\n",
        "import torch.nn.functional as F\n",
        "\n",
        "class CNN_Model(nn.Module):\n",
        "    def __init__(self):\n",
        "        super(CNN_Model, self).__init__()\n",
        "\n",
        "        # Convolutional Layers\n",
        "        self.conv1 = nn.Conv2d(3, 32, kernel_size=3, padding=1)\n",
        "        self.bn1 = nn.BatchNorm2d(32)\n",
        "\n",
        "        self.conv2 = nn.Conv2d(32, 64, kernel_size=3, padding=1)\n",
        "        self.bn2 = nn.BatchNorm2d(64)\n",
        "\n",
        "        self.conv3 = nn.Conv2d(64, 128, kernel_size=3, padding=1)\n",
        "        self.bn3 = nn.BatchNorm2d(128)\n",
        "\n",
        "        self.pool = nn.MaxPool2d(2, 2)\n",
        "\n",
        "        # BiLSTM: input=128 (channels from conv3), hidden=64, bidirectional\n",
        "        self.lstm = nn.LSTM(input_size=128, hidden_size=64, num_layers=1, batch_first=True, bidirectional=True)\n",
        "\n",
        "        # Fully Connected Layers\n",
        "        self.fc1 = nn.Linear(64 * 2, 64)\n",
        "        self.dropout = nn.Dropout(0.5)\n",
        "        self.fc2 = nn.Linear(64, 1)\n",
        "\n",
        "    def forward(self, x):\n",
        "        # CNN Feature Extraction\n",
        "        x = self.pool(F.relu(self.bn1(self.conv1(x))))  # [B, 32, 64, 64]\n",
        "        x = self.pool(F.relu(self.bn2(self.conv2(x))))  # [B, 64, 32, 32]\n",
        "        x = self.pool(F.relu(self.bn3(self.conv3(x))))  # [B, 128, 16, 16]\n",
        "\n",
        "        # Reshape for RNN: [B, 128, H, W] -> [B, H*W, 128]\n",
        "        b, c, h, w = x.size()\n",
        "        x = x.permute(0, 2, 3, 1).contiguous()  # [B, H, W, C]\n",
        "        x = x.view(b, -1, c)  # [B, T, Features] → [B, 256, 128]\n",
        "\n",
        "        # RNN: output shape = [B, T, 2*hidden]; we take the last timestep\n",
        "        x, _ = self.lstm(x)\n",
        "        x = x[:, -1, :]  # last timestep\n",
        "\n",
        "        # FC + Dropout + Output\n",
        "        x = self.dropout(F.relu(self.fc1(x)))\n",
        "        x = torch.sigmoid(self.fc2(x))  # binary output\n",
        "\n",
        "        return x\n"
      ]
    },
    {
      "cell_type": "code",
      "execution_count": null,
      "metadata": {
        "colab": {
          "base_uri": "https://localhost:8080/"
        },
        "id": "7kLbiAxZYSGg",
        "outputId": "1604454c-6428-48f6-e547-81ebfbeb74d4"
      },
      "outputs": [
        {
          "name": "stderr",
          "output_type": "stream",
          "text": [
            "Epoch [1/10]: 100%|███████████████████████████| 93/93 [14:51<00:00,  9.58s/it, acc=59.5, loss=0.645]\n"
          ]
        },
        {
          "name": "stdout",
          "output_type": "stream",
          "text": [
            "\n",
            " Epoch 1: Avg Loss = 0.6431, Accuracy = 59.47%\n"
          ]
        },
        {
          "name": "stderr",
          "output_type": "stream",
          "text": [
            "Epoch [2/10]: 100%|███████████████████████████| 93/93 [00:54<00:00,  1.70it/s, acc=76.2, loss=0.447]\n"
          ]
        },
        {
          "name": "stdout",
          "output_type": "stream",
          "text": [
            "\n",
            " Epoch 2: Avg Loss = 0.5415, Accuracy = 76.18%\n"
          ]
        },
        {
          "name": "stderr",
          "output_type": "stream",
          "text": [
            "Epoch [3/10]: 100%|███████████████████████████| 93/93 [00:54<00:00,  1.70it/s, acc=87.2, loss=0.359]\n"
          ]
        },
        {
          "name": "stdout",
          "output_type": "stream",
          "text": [
            "\n",
            " Epoch 3: Avg Loss = 0.4123, Accuracy = 87.25%\n"
          ]
        },
        {
          "name": "stderr",
          "output_type": "stream",
          "text": [
            "Epoch [4/10]: 100%|████████████████████████████| 93/93 [00:55<00:00,  1.69it/s, acc=88.1, loss=0.36]\n"
          ]
        },
        {
          "name": "stdout",
          "output_type": "stream",
          "text": [
            "\n",
            " Epoch 4: Avg Loss = 0.3632, Accuracy = 88.09%\n"
          ]
        },
        {
          "name": "stderr",
          "output_type": "stream",
          "text": [
            "Epoch [5/10]: 100%|███████████████████████████| 93/93 [00:55<00:00,  1.68it/s, acc=88.8, loss=0.355]\n"
          ]
        },
        {
          "name": "stdout",
          "output_type": "stream",
          "text": [
            "\n",
            " Epoch 5: Avg Loss = 0.3266, Accuracy = 88.80%\n"
          ]
        },
        {
          "name": "stderr",
          "output_type": "stream",
          "text": [
            "Epoch [6/10]: 100%|███████████████████████████| 93/93 [00:54<00:00,  1.71it/s, acc=88.3, loss=0.317]\n"
          ]
        },
        {
          "name": "stdout",
          "output_type": "stream",
          "text": [
            "\n",
            " Epoch 6: Avg Loss = 0.3177, Accuracy = 88.26%\n"
          ]
        },
        {
          "name": "stderr",
          "output_type": "stream",
          "text": [
            "Epoch [7/10]: 100%|███████████████████████████| 93/93 [00:54<00:00,  1.70it/s, acc=88.8, loss=0.247]\n"
          ]
        },
        {
          "name": "stdout",
          "output_type": "stream",
          "text": [
            "\n",
            " Epoch 7: Avg Loss = 0.3137, Accuracy = 88.77%\n"
          ]
        },
        {
          "name": "stderr",
          "output_type": "stream",
          "text": [
            "Epoch [8/10]: 100%|███████████████████████████| 93/93 [00:54<00:00,  1.70it/s, acc=89.6, loss=0.193]\n"
          ]
        },
        {
          "name": "stdout",
          "output_type": "stream",
          "text": [
            "\n",
            " Epoch 8: Avg Loss = 0.2873, Accuracy = 89.65%\n"
          ]
        },
        {
          "name": "stderr",
          "output_type": "stream",
          "text": [
            "Epoch [9/10]: 100%|███████████████████████████| 93/93 [00:54<00:00,  1.70it/s, acc=90.1, loss=0.282]\n"
          ]
        },
        {
          "name": "stdout",
          "output_type": "stream",
          "text": [
            "\n",
            " Epoch 9: Avg Loss = 0.2915, Accuracy = 90.09%\n"
          ]
        },
        {
          "name": "stderr",
          "output_type": "stream",
          "text": [
            "Epoch [10/10]: 100%|██████████████████████████| 93/93 [00:54<00:00,  1.69it/s, acc=91.3, loss=0.253]"
          ]
        },
        {
          "name": "stdout",
          "output_type": "stream",
          "text": [
            "\n",
            " Epoch 10: Avg Loss = 0.2645, Accuracy = 91.27%\n"
          ]
        },
        {
          "name": "stderr",
          "output_type": "stream",
          "text": [
            "\n"
          ]
        }
      ],
      "source": [
        "import torch\n",
        "import torch.optim as optim\n",
        "from tqdm import tqdm\n",
        "\n",
        "num_epochs = 10\n",
        "learning_rate = 0.001\n",
        "momentum = 0.9\n",
        "weight_decay = 0.01\n",
        "\n",
        "\n",
        "device = torch.device(\"cuda\" if torch.cuda.is_available() else \"cpu\")\n",
        "model = CNN_Model().to(device)\n",
        "\n",
        "optimizer = optim.SGD(model.parameters(), lr=learning_rate, momentum=momentum, weight_decay=weight_decay)\n",
        "\n",
        "criterion = nn.BCELoss()\n",
        "\n",
        "for epoch in range(num_epochs):\n",
        "    model.train()\n",
        "    train_loss = 0.0\n",
        "    correct = 0\n",
        "    total = 0\n",
        "\n",
        "    loop = tqdm(train_loader, desc=f\"Epoch [{epoch+1}/{num_epochs}]\", ncols=100)\n",
        "\n",
        "    for inputs, labels in loop:\n",
        "        inputs, labels = inputs.to(device), labels.float().to(device)\n",
        "\n",
        "        optimizer.zero_grad()\n",
        "        outputs = model(inputs).squeeze()\n",
        "        loss = criterion(outputs, labels)\n",
        "\n",
        "        loss.backward()\n",
        "        optimizer.step()\n",
        "\n",
        "        train_loss += loss.item()\n",
        "        predicted = (outputs > 0.5).float()\n",
        "        correct += (predicted == labels).sum().item()\n",
        "        total += labels.size(0)\n",
        "\n",
        "        loop.set_postfix(loss=loss.item(), acc=100 * correct / total)\n",
        "\n",
        "    avg_loss = train_loss / len(train_loader)\n",
        "    acc = 100 * correct / total\n",
        "    print(f\"\\n Epoch {epoch+1}: Avg Loss = {avg_loss:.4f}, Accuracy = {acc:.2f}%\")\n",
        "\n",
        "    torch.save(model, \"cnn_model.pt\")\n"
      ]
    },
    {
      "cell_type": "code",
      "execution_count": null,
      "metadata": {
        "colab": {
          "base_uri": "https://localhost:8080/"
        },
        "id": "h3qNiXlR1QTp",
        "outputId": "c16526a1-675e-46bc-a2db-88cd3303f108"
      },
      "outputs": [
        {
          "name": "stderr",
          "output_type": "stream",
          "text": [
            "Epoch [1/10]: 100%|███████████████████████████| 93/93 [00:54<00:00,  1.70it/s, acc=84.7, loss=0.359]\n"
          ]
        },
        {
          "name": "stdout",
          "output_type": "stream",
          "text": [
            "\n",
            "✅ Epoch 1: Avg Loss = 0.4042, Accuracy = 84.74%\n",
            "🧪 Validation Loss: 0.3028, Accuracy: 88.89%\n",
            "\n"
          ]
        },
        {
          "name": "stderr",
          "output_type": "stream",
          "text": [
            "Epoch [2/10]: 100%|███████████████████████████| 93/93 [00:54<00:00,  1.70it/s, acc=88.1, loss=0.133]\n"
          ]
        },
        {
          "name": "stdout",
          "output_type": "stream",
          "text": [
            "\n",
            "✅ Epoch 2: Avg Loss = 0.3273, Accuracy = 88.06%\n",
            "🧪 Validation Loss: 0.2969, Accuracy: 88.89%\n",
            "\n"
          ]
        },
        {
          "name": "stderr",
          "output_type": "stream",
          "text": [
            "Epoch [3/10]: 100%|███████████████████████████| 93/93 [00:54<00:00,  1.69it/s, acc=88.7, loss=0.124]\n"
          ]
        },
        {
          "name": "stdout",
          "output_type": "stream",
          "text": [
            "\n",
            "✅ Epoch 3: Avg Loss = 0.3107, Accuracy = 88.73%\n",
            "🧪 Validation Loss: 0.3042, Accuracy: 88.08%\n",
            "\n"
          ]
        },
        {
          "name": "stderr",
          "output_type": "stream",
          "text": [
            "Epoch [4/10]: 100%|███████████████████████████| 93/93 [00:54<00:00,  1.71it/s, acc=89.4, loss=0.442]\n"
          ]
        },
        {
          "name": "stdout",
          "output_type": "stream",
          "text": [
            "\n",
            "✅ Epoch 4: Avg Loss = 0.2949, Accuracy = 89.38%\n",
            "🧪 Validation Loss: 0.5706, Accuracy: 59.89%\n",
            "\n"
          ]
        },
        {
          "name": "stderr",
          "output_type": "stream",
          "text": [
            "Epoch [5/10]: 100%|███████████████████████████| 93/93 [00:54<00:00,  1.71it/s, acc=88.4, loss=0.181]\n"
          ]
        },
        {
          "name": "stdout",
          "output_type": "stream",
          "text": [
            "\n",
            "✅ Epoch 5: Avg Loss = 0.3085, Accuracy = 88.36%\n",
            "🧪 Validation Loss: 0.2580, Accuracy: 88.89%\n",
            "\n"
          ]
        },
        {
          "name": "stderr",
          "output_type": "stream",
          "text": [
            "Epoch [6/10]: 100%|███████████████████████████| 93/93 [00:55<00:00,  1.66it/s, acc=89.9, loss=0.224]\n"
          ]
        },
        {
          "name": "stdout",
          "output_type": "stream",
          "text": [
            "\n",
            "✅ Epoch 6: Avg Loss = 0.2832, Accuracy = 89.85%\n",
            "🧪 Validation Loss: 0.2906, Accuracy: 88.35%\n",
            "\n"
          ]
        },
        {
          "name": "stderr",
          "output_type": "stream",
          "text": [
            "Epoch [7/10]: 100%|███████████████████████████| 93/93 [00:55<00:00,  1.69it/s, acc=90.3, loss=0.146]\n"
          ]
        },
        {
          "name": "stdout",
          "output_type": "stream",
          "text": [
            "\n",
            "✅ Epoch 7: Avg Loss = 0.2855, Accuracy = 90.32%\n",
            "🧪 Validation Loss: 0.2597, Accuracy: 90.79%\n",
            "\n"
          ]
        },
        {
          "name": "stderr",
          "output_type": "stream",
          "text": [
            "Epoch [8/10]: 100%|███████████████████████████| 93/93 [00:55<00:00,  1.68it/s, acc=88.8, loss=0.488]\n"
          ]
        },
        {
          "name": "stdout",
          "output_type": "stream",
          "text": [
            "\n",
            "✅ Epoch 8: Avg Loss = 0.3071, Accuracy = 88.80%\n",
            "🧪 Validation Loss: 0.2996, Accuracy: 88.62%\n",
            "\n"
          ]
        },
        {
          "name": "stderr",
          "output_type": "stream",
          "text": [
            "Epoch [9/10]: 100%|███████████████████████████| 93/93 [00:56<00:00,  1.66it/s, acc=89.7, loss=0.189]\n"
          ]
        },
        {
          "name": "stdout",
          "output_type": "stream",
          "text": [
            "\n",
            "✅ Epoch 9: Avg Loss = 0.2838, Accuracy = 89.68%\n",
            "🧪 Validation Loss: 0.2720, Accuracy: 89.43%\n",
            "\n"
          ]
        },
        {
          "name": "stderr",
          "output_type": "stream",
          "text": [
            "Epoch [10/10]: 100%|██████████████████████████| 93/93 [00:55<00:00,  1.69it/s, acc=90.4, loss=0.578]\n"
          ]
        },
        {
          "name": "stdout",
          "output_type": "stream",
          "text": [
            "\n",
            "✅ Epoch 10: Avg Loss = 0.2779, Accuracy = 90.43%\n",
            "🧪 Validation Loss: 0.2641, Accuracy: 90.24%\n",
            "\n",
            "✅ Training complete.\n"
          ]
        }
      ],
      "source": [
        "import torch\n",
        "import torch.optim as optim\n",
        "from tqdm import tqdm\n",
        "\n",
        "# Hyperparameters\n",
        "num_epochs = 10\n",
        "learning_rate = 0.001\n",
        "weight_decay = 0.01  # L2 regularization\n",
        "\n",
        "# Device and model setup\n",
        "device = torch.device(\"cuda\" if torch.cuda.is_available() else \"cpu\")\n",
        "model = CNN_Model().to(device)\n",
        "\n",
        "# Optimizer: Adam with L2 regularization\n",
        "optimizer = optim.Adam(model.parameters(), lr=learning_rate, weight_decay=weight_decay)\n",
        "\n",
        "# Loss function\n",
        "criterion = nn.BCELoss()\n",
        "\n",
        "# Training loop\n",
        "for epoch in range(num_epochs):\n",
        "    model.train()\n",
        "    running_loss = 0.0\n",
        "    correct = 0\n",
        "    total = 0\n",
        "\n",
        "    loop = tqdm(train_loader, desc=f\"Epoch [{epoch+1}/{num_epochs}]\", ncols=100)\n",
        "\n",
        "    for inputs, labels in loop:\n",
        "        inputs, labels = inputs.to(device), labels.float().to(device)\n",
        "\n",
        "        optimizer.zero_grad()\n",
        "        outputs = model(inputs).squeeze()\n",
        "        loss = criterion(outputs, labels)\n",
        "\n",
        "        loss.backward()\n",
        "        optimizer.step()\n",
        "\n",
        "        running_loss += loss.item()\n",
        "        predicted = (outputs > 0.5).float()\n",
        "        correct += (predicted == labels).sum().item()\n",
        "        total += labels.size(0)\n",
        "\n",
        "        loop.set_postfix(loss=loss.item(), acc=100 * correct / total)\n",
        "\n",
        "    avg_loss = running_loss / len(train_loader)\n",
        "    acc = 100 * correct / total\n",
        "    print(f\"\\n✅ Epoch {epoch+1}: Avg Loss = {avg_loss:.4f}, Accuracy = {acc:.2f}%\")\n",
        "\n",
        "    # Validation phase\n",
        "    model.eval()\n",
        "    val_loss = 0.0\n",
        "    val_correct = 0\n",
        "    val_total = 0\n",
        "\n",
        "    with torch.no_grad():\n",
        "        for inputs, labels in val_loader:\n",
        "            inputs, labels = inputs.to(device), labels.float().to(device)\n",
        "            outputs = model(inputs).squeeze()\n",
        "            loss = criterion(outputs, labels)\n",
        "            val_loss += loss.item()\n",
        "\n",
        "            predicted = (outputs > 0.5).float()\n",
        "            val_correct += (predicted == labels).sum().item()\n",
        "            val_total += labels.size(0)\n",
        "\n",
        "    avg_val_loss = val_loss / len(val_loader)\n",
        "    val_acc = 100 * val_correct / val_total\n",
        "    print(f\"🧪 Validation Loss: {avg_val_loss:.4f}, Accuracy: {val_acc:.2f}%\\n\")\n",
        "\n",
        "print(\"✅ Training complete.\")\n",
        "\n",
        "torch.save(model, \"cnn_adam_model.pt\")"
      ]
    },
    {
      "cell_type": "code",
      "execution_count": null,
      "metadata": {
        "colab": {
          "base_uri": "https://localhost:8080/",
          "height": 919
        },
        "id": "5LRIChGe4Is9",
        "outputId": "cd6864cf-21a3-4a6e-a275-f08b0c848264"
      },
      "outputs": [
        {
          "name": "stdout",
          "output_type": "stream",
          "text": [
            "✅ Model loaded from Drive.\n",
            "Accuracy    : 0.9079\n",
            "Precision   : 0.8723\n",
            "Recall      : 0.8849\n",
            "F1 Score    : 0.8786\n",
            "Specificity : 0.9217\n",
            "ROC AUC     : 0.9533\n"
          ]
        },
        {
          "data": {
            "image/png": "[encoded data removed]",
            "text/plain": [
              "<Figure size 500x400 with 2 Axes>"
            ]
          },
          "metadata": {},
          "output_type": "display_data"
        },
        {
          "data": {
            "image/png": "[encoded data removed]",
            "text/plain": [
              "<Figure size 600x400 with 1 Axes>"
            ]
          },
          "metadata": {},
          "output_type": "display_data"
        }
      ],
      "source": [
        "import torch\n",
        "import torch.nn as nn\n",
        "import torch.nn.functional as F\n",
        "import numpy as np\n",
        "from sklearn.metrics import accuracy_score, precision_score, recall_score, f1_score, confusion_matrix, roc_auc_score, roc_curve\n",
        "import matplotlib.pyplot as plt\n",
        "import seaborn as sns\n",
        "\n",
        "\n",
        "\n",
        "device = torch.device(\"cuda\" if torch.cuda.is_available() else \"cpu\")\n",
        "model_path = \"/content/drive/MyDrive/cnn_model.pt\"  # <-- update path\n",
        "model = torch.load(model_path, map_location=device, weights_only=False)\n",
        "model = model.to(device)\n",
        "model.eval()\n",
        "print(\"✅ Model loaded from Drive.\")\n",
        "\n",
        "# 🧪 Evaluation function\n",
        "def evaluate_model(model, dataloader, threshold=0.5):\n",
        "    model.eval()\n",
        "    y_true, y_pred, y_probs = [], [], []\n",
        "\n",
        "    with torch.no_grad():\n",
        "        for inputs, labels in dataloader:\n",
        "            inputs, labels = inputs.to(device), labels.float().to(device)\n",
        "            outputs = model(inputs).squeeze()\n",
        "            probs = outputs.cpu().numpy()\n",
        "            preds = (outputs > threshold).float().cpu().numpy()\n",
        "            y_probs.extend(probs)\n",
        "            y_pred.extend(preds)\n",
        "            y_true.extend(labels.cpu().numpy())\n",
        "\n",
        "    y_true = np.array(y_true)\n",
        "    y_pred = np.array(y_pred)\n",
        "    y_probs = np.array(y_probs)\n",
        "\n",
        "    acc = accuracy_score(y_true, y_pred)\n",
        "    prec = precision_score(y_true, y_pred, zero_division=0)\n",
        "    rec = recall_score(y_true, y_pred, zero_division=0)\n",
        "    f1 = f1_score(y_true, y_pred, zero_division=0)\n",
        "    auc = roc_auc_score(y_true, y_probs)\n",
        "    tn, fp, fn, tp = confusion_matrix(y_true, y_pred).ravel()\n",
        "    specificity = tn / (tn + fp + 1e-6)\n",
        "\n",
        "    print(f\"Accuracy    : {acc:.4f}\")\n",
        "    print(f\"Precision   : {prec:.4f}\")\n",
        "    print(f\"Recall      : {rec:.4f}\")\n",
        "    print(f\"F1 Score    : {f1:.4f}\")\n",
        "    print(f\"Specificity : {specificity:.4f}\")\n",
        "    print(f\"ROC AUC     : {auc:.4f}\")\n",
        "\n",
        "    # Confusion Matrix Plot\n",
        "    cm = confusion_matrix(y_true, y_pred)\n",
        "    plt.figure(figsize=(5, 4))\n",
        "    sns.heatmap(cm, annot=True, fmt='d', cmap='Blues', xticklabels=['Normal', 'Eczema'], yticklabels=['Normal', 'Eczema'])\n",
        "    plt.title(\"Confusion Matrix\")\n",
        "    plt.xlabel(\"Predicted\")\n",
        "    plt.ylabel(\"Actual\")\n",
        "    plt.tight_layout()\n",
        "    plt.show()\n",
        "\n",
        "    # ROC Curve Plot\n",
        "    fpr, tpr, _ = roc_curve(y_true, y_probs)\n",
        "    plt.figure(figsize=(6, 4))\n",
        "    plt.plot(fpr, tpr, label=f\"AUC = {auc:.2f}\")\n",
        "    plt.plot([0, 1], [0, 1], linestyle=\"--\", color=\"gray\")\n",
        "    plt.xlabel(\"False Positive Rate\")\n",
        "    plt.ylabel(\"True Positive Rate\")\n",
        "    plt.title(\"ROC Curve\")\n",
        "    plt.legend()\n",
        "    plt.tight_layout()\n",
        "    plt.show()\n",
        "\n",
        "# 🔁 Run it on val_loader or test_loader\n",
        "evaluate_model(model, val_loader)  # or test_loader if available\n"
      ]
    },
    {
      "cell_type": "code",
      "source": [
        "\n",
        "# 🔧 Imports\n",
        "import torch\n",
        "import torch.nn as nn\n",
        "import torch.nn.functional as F\n",
        "import numpy as np\n",
        "from sklearn.metrics import accuracy_score, precision_score, recall_score, f1_score, confusion_matrix, roc_auc_score, roc_curve\n",
        "import matplotlib.pyplot as plt\n",
        "import seaborn as sns\n",
        "\n",
        "# 🔌 Load model from Drive\n",
        "device = torch.device(\"cuda\" if torch.cuda.is_available() else \"cpu\")\n",
        "model_path = \"/content/drive/MyDrive/cnn_model.pt\"  # <-- update path\n",
        "model = torch.load(model_path, map_location=device, weights_only=False)\n",
        "model = model.to(device)\n",
        "model.eval()\n",
        "print(\"✅ Model loaded from Drive.\")\n",
        "\n",
        "# 🧪 Evaluation function\n",
        "def evaluate_model(model, dataloader, threshold=0.5):\n",
        "    model.eval()\n",
        "    y_true, y_pred, y_probs = [], [], []\n",
        "\n",
        "    with torch.no_grad():\n",
        "        for inputs, labels in dataloader:\n",
        "            inputs, labels = inputs.to(device), labels.float().to(device)\n",
        "            outputs = model(inputs).squeeze()\n",
        "            probs = outputs.cpu().numpy()\n",
        "            preds = (outputs > threshold).float().cpu().numpy()\n",
        "            y_probs.extend(probs)\n",
        "            y_pred.extend(preds)\n",
        "            y_true.extend(labels.cpu().numpy())\n",
        "\n",
        "    y_true = np.array(y_true)\n",
        "    y_pred = np.array(y_pred)\n",
        "    y_probs = np.array(y_probs)\n",
        "\n",
        "    acc = accuracy_score(y_true, y_pred)\n",
        "    prec = precision_score(y_true, y_pred, zero_division=0)\n",
        "    rec = recall_score(y_true, y_pred, zero_division=0)\n",
        "    f1 = f1_score(y_true, y_pred, zero_division=0)\n",
        "    auc = roc_auc_score(y_true, y_probs)\n",
        "    tn, fp, fn, tp = confusion_matrix(y_true, y_pred).ravel()\n",
        "    specificity = tn / (tn + fp + 1e-6)\n",
        "\n",
        "    print(f\"Accuracy    : {acc:.4f}\")\n",
        "    print(f\"Precision   : {prec:.4f}\")\n",
        "    print(f\"Recall      : {rec:.4f}\")\n",
        "    print(f\"F1 Score    : {f1:.4f}\")\n",
        "    print(f\"Specificity : {specificity:.4f}\")\n",
        "    print(f\"ROC AUC     : {auc:.4f}\")\n",
        "\n",
        "    # Confusion Matrix Plot\n",
        "    cm = confusion_matrix(y_true, y_pred)\n",
        "    plt.figure(figsize=(5, 4))\n",
        "    sns.heatmap(cm, annot=True, fmt='d', cmap='Blues', xticklabels=['Normal', 'Eczema'], yticklabels=['Normal', 'Eczema'])\n",
        "    plt.title(\"Confusion Matrix\")\n",
        "    plt.xlabel(\"Predicted\")\n",
        "    plt.ylabel(\"Actual\")\n",
        "    plt.tight_layout()\n",
        "    plt.show()\n",
        "\n",
        "    # ROC Curve Plot\n",
        "    fpr, tpr, _ = roc_curve(y_true, y_probs)\n",
        "    plt.figure(figsize=(6, 4))\n",
        "    plt.plot(fpr, tpr, label=f\"AUC = {auc:.2f}\")\n",
        "    plt.plot([0, 1], [0, 1], linestyle=\"--\", color=\"gray\")\n",
        "    plt.xlabel(\"False Positive Rate\")\n",
        "    plt.ylabel(\"True Positive Rate\")\n",
        "    plt.title(\"ROC Curve\")\n",
        "    plt.legend()\n",
        "    plt.tight_layout()\n",
        "    plt.show()\n",
        "\n",
        "# 🔁 Run it on val_loader or test_loader\n",
        "evaluate_model(model, test_loader)  # or test_loader if available\n"
      ],
      "metadata": {
        "colab": {
          "base_uri": "https://localhost:8080/",
          "height": 919
        },
        "id": "rEkGHcpZocb0",
        "outputId": "445ccdcb-b1ff-450b-a3d0-7d80891ad7f7"
      },
      "execution_count": 10,
      "outputs": [
        {
          "output_type": "stream",
          "name": "stdout",
          "text": [
            "✅ Model loaded from Drive.\n",
            "Accuracy    : 0.8922\n",
            "Precision   : 0.8367\n",
            "Recall      : 0.8849\n",
            "F1 Score    : 0.8601\n",
            "Specificity : 0.8966\n",
            "ROC AUC     : 0.9556\n"
          ]
        },
        {
          "output_type": "display_data",
          "data": {
            "text/plain": [
              "<Figure size 500x400 with 2 Axes>"
            ],
            "image/png": "[encoded data removed]"
          },
          "metadata": {}
        },
        {
          "output_type": "display_data",
          "data": {
            "text/plain": [
              "<Figure size 600x400 with 1 Axes>"
            ],
            "image/png": "[encoded data removed]"
          },
          "metadata": {}
        }
      ]
    }
  ],
  "metadata": {
    "accelerator": "GPU",
    "colab": {
      "gpuType": "T4",
      "provenance": []
    },
    "kernelspec": {
      "display_name": "Python 3",
      "name": "python3"
    },
    "language_info": {
      "name": "python"
    }
  },
  "nbformat": 4,
  "nbformat_minor": 0
}